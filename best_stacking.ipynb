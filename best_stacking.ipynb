{
 "cells": [
  {
   "cell_type": "code",
   "execution_count": 2,
   "metadata": {},
   "outputs": [],
   "source": [
    "import utils\n",
    "from sklearn.pipeline import Pipeline\n",
    "from sklearn.ensemble import StackingClassifier\n",
    "from sklearn.linear_model import LogisticRegression"
   ]
  },
  {
   "cell_type": "code",
   "execution_count": 7,
   "metadata": {},
   "outputs": [],
   "source": [
    "param_grid = {\n",
    "    'stacking__final_estimator__penalty': ['l1', 'l2'],  # Regularization penalty\n",
    "    'stacking__final_estimator__C': [0.1, 1.0, 10.0],   # Inverse of regularization strength\n",
    "    'stacking__final_estimator__solver': ['liblinear', 'saga']  # Algorithm to use in optimization problem\n",
    "}"
   ]
  },
  {
   "cell_type": "code",
   "execution_count": 8,
   "metadata": {},
   "outputs": [
    {
     "data": {
      "text/plain": [
       "'/tmp/tmpim7ibtb1'"
      ]
     },
     "execution_count": 8,
     "metadata": {},
     "output_type": "execute_result"
    }
   ],
   "source": [
    "from tempfile import mkdtemp\n",
    "\n",
    "cachedir = mkdtemp() # caching the pipeline\n",
    "cachedir"
   ]
  },
  {
   "cell_type": "code",
   "execution_count": null,
   "metadata": {},
   "outputs": [],
   "source": [
    "import joblib\n",
    "\n",
    "dt = joblib.load(\"results/best_decision_tree/best_dt.joblib\")\n",
    "rf = joblib.load(\"results/best_random_forest/best_rf.joblib\")\n",
    "lr = LogisticRegression(random_state=utils.RANDOM_STATE, n_jobs=-1)"
   ]
  },
  {
   "cell_type": "code",
   "execution_count": 9,
   "metadata": {},
   "outputs": [],
   "source": [
    "from sklearn.preprocessing import MinMaxScaler\n",
    "\n",
    "preprocess_pipeline = Pipeline([\n",
    "    ('scaler', MinMaxScaler())\n",
    "],\n",
    "memory=cachedir)\n",
    "\n",
    "base_estimators = [\n",
    "    ('rf', rf),\n",
    "    ('dt', dt)\n",
    "]\n",
    "\n",
    "stacking_clf = StackingClassifier(\n",
    "    n_jobs = -1,\n",
    "    estimators=base_estimators,\n",
    "    final_estimator= lr\n",
    ")\n",
    "\n",
    "stacking_pipeline = Pipeline([\n",
    "    ('preprocess', preprocess_pipeline),\n",
    "    ('stacking', stacking_clf)\n",
    "])\n",
    "stacking_pipeline"
   ]
  },
  {
   "cell_type": "code",
   "execution_count": null,
   "metadata": {},
   "outputs": [],
   "source": [
    "best_pipe = utils.find_best_model(stacking_pipeline, param_grid, cv = 5, n_jobs=1)"
   ]
  },
  {
   "cell_type": "code",
   "execution_count": null,
   "metadata": {},
   "outputs": [],
   "source": [
    "utils.save_model(best_pipe, \"results/best_stacking\", \"best_stacking.joblib\")"
   ]
  },
  {
   "cell_type": "code",
   "execution_count": null,
   "metadata": {},
   "outputs": [],
   "source": [
    "utils.evaluate_all_model(best_pipe, \"results/best_stacking\")"
   ]
  },
  {
   "cell_type": "code",
   "execution_count": null,
   "metadata": {},
   "outputs": [],
   "source": [
    "from shutil import rmtree\n",
    "\n",
    "rmtree(cachedir)"
   ]
  },
  {
   "cell_type": "code",
   "execution_count": null,
   "metadata": {},
   "outputs": [],
   "source": []
  }
 ],
 "metadata": {
  "kernelspec": {
   "display_name": "Python 3",
   "language": "python",
   "name": "python3"
  },
  "language_info": {
   "codemirror_mode": {
    "name": "ipython",
    "version": 3
   },
   "file_extension": ".py",
   "mimetype": "text/x-python",
   "name": "python",
   "nbconvert_exporter": "python",
   "pygments_lexer": "ipython3",
   "version": "3.10.12"
  }
 },
 "nbformat": 4,
 "nbformat_minor": 2
}
